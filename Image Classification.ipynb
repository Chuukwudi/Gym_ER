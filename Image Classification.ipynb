{
 "cells": [
  {
   "cell_type": "code",
   "execution_count": 1,
   "id": "e32b7860",
   "metadata": {},
   "outputs": [
    {
     "name": "stdout",
     "output_type": "stream",
     "text": [
      "/home/trazom/venvs/Machine_Learning/bin/python3\n"
     ]
    }
   ],
   "source": [
    "import sys\n",
    "import os\n",
    "import cv2\n",
    "\n",
    "# Importing the Keras libraries and packages\n",
    "import tensorflow as tf\n",
    "from tensorflow.keras.models import Model, Sequential, model_from_json\n",
    "from tensorflow.keras.layers import Conv2D, MaxPooling2D, Dropout, Dense,Flatten\n",
    "\n",
    "import splitfolders\n",
    "\n",
    "print(sys.executable)"
   ]
  },
  {
   "cell_type": "code",
   "execution_count": 2,
   "id": "22746e22",
   "metadata": {},
   "outputs": [],
   "source": [
    "def getFrame(video_path, image_path, sec, count=1):\n",
    "    vidcap = cv2.VideoCapture(video_path)\n",
    "    vidcap.set(cv2.CAP_PROP_POS_MSEC,sec*1000)\n",
    "    hasFrames, image = vidcap.read()\n",
    "    if hasFrames:\n",
    "        cv2.imwrite(image_path + \"/image\"+str(count)+\".jpg\", image)     # save frame as JPG file\n",
    "    return hasFrames\n",
    "\n",
    "def video2image(video_path, image_path, frameRate=0.1):\n",
    "    for directories in os.listdir(video_path):\n",
    "        for videos in os.listdir(video_path + directories):\n",
    "            save_path = image_path + directories\n",
    "\n",
    "            if not os.path.exists(save_path):\n",
    "                os.makedirs(save_path)\n",
    "\n",
    "            video = video_path + directories + \"/\" + videos\n",
    "\n",
    "            count = 1\n",
    "            sec = 0\n",
    "\n",
    "            success = getFrame(video_path=video, image_path=save_path, sec=sec)\n",
    "            while success:\n",
    "                count = count + 1\n",
    "                sec = sec + frameRate\n",
    "                sec = round(sec, 2)\n",
    "                success = getFrame(video_path=video, image_path=save_path, sec=sec, count=count)\n",
    "\n"
   ]
  },
  {
   "cell_type": "code",
   "execution_count": 3,
   "id": "fdeff4fc",
   "metadata": {},
   "outputs": [],
   "source": [
    "# video_directory = \"/home/trazom/Internship Project/Video Data/\"\n",
    "# image_directory = \"/home/trazom/Internship Project/Image Data/\"\n",
    "\n",
    "\n",
    "# video2image(video_directory, image_directory, 0.03)"
   ]
  },
  {
   "cell_type": "code",
   "execution_count": 4,
   "id": "d31e39b3",
   "metadata": {},
   "outputs": [],
   "source": [
    "# # Creating Train / Val / Test folders (One time use)\n",
    "\n",
    "\n",
    "split_output = \"/home/trazom/Internship Project/Split Image Data/\"\n",
    "\n",
    "#splitfolders.ratio(image_directory, output=split_output, seed=1337, ratio=(.6, 0.2, 0.2))"
   ]
  },
  {
   "cell_type": "code",
   "execution_count": 5,
   "id": "bab063a2",
   "metadata": {},
   "outputs": [],
   "source": [
    "im = cv2.imread(split_output + \"train/Ab trainer/image1.jpg\")"
   ]
  },
  {
   "cell_type": "code",
   "execution_count": 6,
   "id": "026e1c95",
   "metadata": {},
   "outputs": [
    {
     "name": "stdout",
     "output_type": "stream",
     "text": [
      "(1280, 720, 3)\n"
     ]
    }
   ],
   "source": [
    "print(im.shape)"
   ]
  },
  {
   "cell_type": "markdown",
   "id": "f1ce4b31",
   "metadata": {},
   "source": [
    "# Here begins the Machine Learning\n",
    "\n",
    "## Part 1 - Building the CNN"
   ]
  },
  {
   "cell_type": "markdown",
   "id": "bc881e56",
   "metadata": {},
   "source": [
    "## Build Model"
   ]
  },
  {
   "cell_type": "code",
   "execution_count": 21,
   "id": "4222112f",
   "metadata": {},
   "outputs": [
    {
     "name": "stdout",
     "output_type": "stream",
     "text": [
      "['Recumbent exercise bike', 'Versa Climber', 'Rowing Machine', 'Weight Tree', 'Ab trainer', 'Step climber', 'Upright bike', 'Hitmill X', 'Thread mill'] 9\n"
     ]
    }
   ],
   "source": [
    "classes = []\n",
    "for directories in os.listdir(split_output + \"train\"):\n",
    "    classes.append(directories)\n",
    "\n",
    "no_of_classes = len(classes)\n",
    "print(classes, no_of_classes)"
   ]
  },
  {
   "cell_type": "code",
   "execution_count": 22,
   "id": "f8698fe4",
   "metadata": {},
   "outputs": [
    {
     "name": "stdout",
     "output_type": "stream",
     "text": [
      "Found 4344 images belonging to 9 classes.\n",
      "Found 1446 images belonging to 9 classes.\n",
      "Model: \"sequential_1\"\n",
      "_________________________________________________________________\n",
      "Layer (type)                 Output Shape              Param #   \n",
      "=================================================================\n",
      "conv2d_5 (Conv2D)            (None, 510, 286, 16)      448       \n",
      "_________________________________________________________________\n",
      "max_pooling2d_5 (MaxPooling2 (None, 255, 143, 16)      0         \n",
      "_________________________________________________________________\n",
      "conv2d_6 (Conv2D)            (None, 253, 141, 32)      4640      \n",
      "_________________________________________________________________\n",
      "max_pooling2d_6 (MaxPooling2 (None, 126, 70, 32)       0         \n",
      "_________________________________________________________________\n",
      "conv2d_7 (Conv2D)            (None, 124, 68, 64)       18496     \n",
      "_________________________________________________________________\n",
      "max_pooling2d_7 (MaxPooling2 (None, 62, 34, 64)        0         \n",
      "_________________________________________________________________\n",
      "conv2d_8 (Conv2D)            (None, 60, 32, 64)        36928     \n",
      "_________________________________________________________________\n",
      "max_pooling2d_8 (MaxPooling2 (None, 30, 16, 64)        0         \n",
      "_________________________________________________________________\n",
      "conv2d_9 (Conv2D)            (None, 28, 14, 64)        36928     \n",
      "_________________________________________________________________\n",
      "max_pooling2d_9 (MaxPooling2 (None, 14, 7, 64)         0         \n",
      "_________________________________________________________________\n",
      "flatten_1 (Flatten)          (None, 6272)              0         \n",
      "_________________________________________________________________\n",
      "dense_2 (Dense)              (None, 128)               802944    \n",
      "_________________________________________________________________\n",
      "dense_3 (Dense)              (None, 9)                 1161      \n",
      "=================================================================\n",
      "Total params: 901,545\n",
      "Trainable params: 901,545\n",
      "Non-trainable params: 0\n",
      "_________________________________________________________________\n"
     ]
    }
   ],
   "source": [
    "batch_size = 16\n",
    "\n",
    "from tensorflow.keras.preprocessing.image import ImageDataGenerator\n",
    "\n",
    "# All images will be rescaled by 1./255\n",
    "train_datagen = ImageDataGenerator(rescale=1/255)\n",
    "\n",
    "# Flow training images in batches of 128 using train_datagen generator\n",
    "train_generator = train_datagen.flow_from_directory(\n",
    "        split_output + \"train\",  # This is the source directory for training images\n",
    "        target_size=(512, 288),  # All images will be resized to 512 x 288\n",
    "        batch_size=batch_size,\n",
    "        # Specify the classes explicitly\n",
    "        classes = classes,\n",
    "        # Since we use categorical_crossentropy loss, we need categorical labels\n",
    "        class_mode='categorical')\n",
    "\n",
    "validation_datagen = ImageDataGenerator(rescale=1/255)\n",
    "\n",
    "validation_generator = validation_datagen.flow_from_directory(\n",
    "        split_output + 'val',  # This is the source directory for training images\n",
    "        target_size=(512, 288),  # All images will be resized to 512 x 288\n",
    "        batch_size=batch_size,\n",
    "        # Specify the classes explicitly\n",
    "        classes = classes,\n",
    "        # Since we use categorical_crossentropy loss, we need categorical labels\n",
    "        class_mode='categorical')\n",
    "\n",
    "\n",
    "\n",
    "model = Sequential([\n",
    "    # Note the input shape is the desired size of the image 512 x 288 \n",
    "    # with 3 bytes color\n",
    "    # The first convolution\n",
    "    Conv2D(16, (3,3), activation='relu', input_shape=(512, 288, 3)),\n",
    "    MaxPooling2D(2, 2),\n",
    "    # The second convolution\n",
    "    Conv2D(32, (3,3), activation='relu'),\n",
    "    MaxPooling2D(2,2),\n",
    "    # The third convolution\n",
    "    Conv2D(64, (3,3), activation='relu'),\n",
    "    MaxPooling2D(2,2),\n",
    "    # The fourth convolution\n",
    "    Conv2D(64, (3,3), activation='relu'),\n",
    "    MaxPooling2D(2,2),\n",
    "    # The fifth convolution\n",
    "    Conv2D(64, (3,3), activation='relu'),\n",
    "    MaxPooling2D(2,2),\n",
    "    # Flatten the results to feed into a dense layer\n",
    "    Flatten(),\n",
    "    # 128 neuron in the fully-connected layer\n",
    "    Dense(128, activation='relu'),\n",
    "    # 5 output neurons for 5 classes with the softmax activation\n",
    "    Dense(no_of_classes, activation='softmax')\n",
    "])\n",
    "\n",
    "\n",
    "model.summary()\n",
    "\n"
   ]
  },
  {
   "cell_type": "code",
   "execution_count": 23,
   "id": "a171102b",
   "metadata": {},
   "outputs": [
    {
     "name": "stdout",
     "output_type": "stream",
     "text": [
      "Epoch 1/30\n",
      "271/271 - 65s - loss: 0.7594 - acc: 0.7521 - val_loss: 2.6984 - val_acc: 0.5788\n",
      "Epoch 2/30\n",
      "271/271 - 63s - loss: 0.1429 - acc: 0.9829 - val_loss: 6.1786e-05 - val_acc: 1.0000\n",
      "Epoch 3/30\n",
      "271/271 - 63s - loss: 0.7381 - acc: 0.9933 - val_loss: 1.0110e-06 - val_acc: 1.0000\n",
      "Epoch 4/30\n",
      "271/271 - 64s - loss: 0.1553 - acc: 0.9945 - val_loss: 0.0065 - val_acc: 0.9972\n",
      "Epoch 5/30\n",
      "271/271 - 63s - loss: 0.1504 - acc: 0.9961 - val_loss: 7.6670e-09 - val_acc: 1.0000\n",
      "Epoch 6/30\n",
      "271/271 - 62s - loss: 0.3480 - acc: 0.9919 - val_loss: 0.0029 - val_acc: 0.9986\n",
      "Epoch 7/30\n",
      "271/271 - 63s - loss: 0.0928 - acc: 0.9963 - val_loss: 2.3768e-06 - val_acc: 1.0000\n",
      "Epoch 8/30\n",
      "271/271 - 63s - loss: 1.3945e-07 - acc: 1.0000 - val_loss: 4.9464e-10 - val_acc: 1.0000\n",
      "Epoch 9/30\n",
      "271/271 - 63s - loss: 6.8859e-10 - acc: 1.0000 - val_loss: 2.1846e-08 - val_acc: 1.0000\n",
      "Epoch 10/30\n",
      "271/271 - 63s - loss: 0.0658 - acc: 0.9970 - val_loss: 5.5235e-09 - val_acc: 1.0000\n",
      "Epoch 11/30\n",
      "271/271 - 63s - loss: 8.2631e-10 - acc: 1.0000 - val_loss: 1.6488e-10 - val_acc: 1.0000\n",
      "Epoch 12/30\n",
      "271/271 - 63s - loss: 0.1267 - acc: 0.9917 - val_loss: 3.8005e-08 - val_acc: 1.0000\n",
      "Epoch 13/30\n",
      "271/271 - 63s - loss: 0.1229 - acc: 0.9956 - val_loss: 6.2077e-08 - val_acc: 1.0000\n",
      "Epoch 14/30\n",
      "271/271 - 63s - loss: 1.4488e-08 - acc: 1.0000 - val_loss: 8.2441e-11 - val_acc: 1.0000\n",
      "Epoch 15/30\n",
      "271/271 - 63s - loss: 5.5087e-11 - acc: 1.0000 - val_loss: 0.0000e+00 - val_acc: 1.0000\n",
      "Epoch 16/30\n",
      "271/271 - 62s - loss: 0.0966 - acc: 0.9970 - val_loss: 7.2487e-07 - val_acc: 1.0000\n",
      "Epoch 17/30\n",
      "271/271 - 62s - loss: 1.1016e-07 - acc: 1.0000 - val_loss: 0.0000e+00 - val_acc: 1.0000\n",
      "Epoch 18/30\n",
      "271/271 - 62s - loss: 0.0000e+00 - acc: 1.0000 - val_loss: 0.0000e+00 - val_acc: 1.0000\n",
      "Epoch 19/30\n",
      "271/271 - 63s - loss: 0.0000e+00 - acc: 1.0000 - val_loss: 0.0000e+00 - val_acc: 1.0000\n",
      "Epoch 20/30\n",
      "271/271 - 62s - loss: 0.0000e+00 - acc: 1.0000 - val_loss: 0.0000e+00 - val_acc: 1.0000\n",
      "Epoch 21/30\n",
      "271/271 - 63s - loss: 0.0000e+00 - acc: 1.0000 - val_loss: 0.0000e+00 - val_acc: 1.0000\n",
      "Epoch 22/30\n",
      "271/271 - 62s - loss: 0.0000e+00 - acc: 1.0000 - val_loss: 0.0000e+00 - val_acc: 1.0000\n",
      "Epoch 23/30\n",
      "271/271 - 62s - loss: 0.0000e+00 - acc: 1.0000 - val_loss: 0.0000e+00 - val_acc: 1.0000\n",
      "Epoch 24/30\n",
      "271/271 - 63s - loss: 0.0000e+00 - acc: 1.0000 - val_loss: 0.0000e+00 - val_acc: 1.0000\n",
      "Epoch 25/30\n",
      "271/271 - 63s - loss: 0.0000e+00 - acc: 1.0000 - val_loss: 0.0000e+00 - val_acc: 1.0000\n",
      "Epoch 26/30\n",
      "271/271 - 63s - loss: 0.0000e+00 - acc: 1.0000 - val_loss: 0.0000e+00 - val_acc: 1.0000\n",
      "Epoch 27/30\n",
      "271/271 - 63s - loss: 0.0000e+00 - acc: 1.0000 - val_loss: 0.0000e+00 - val_acc: 1.0000\n",
      "Epoch 28/30\n",
      "271/271 - 63s - loss: 0.0000e+00 - acc: 1.0000 - val_loss: 0.0000e+00 - val_acc: 1.0000\n",
      "Epoch 29/30\n",
      "271/271 - 63s - loss: 0.0000e+00 - acc: 1.0000 - val_loss: 0.0000e+00 - val_acc: 1.0000\n",
      "Epoch 30/30\n",
      "271/271 - 63s - loss: 0.0000e+00 - acc: 1.0000 - val_loss: 0.0000e+00 - val_acc: 1.0000\n"
     ]
    }
   ],
   "source": [
    "from tensorflow.keras.optimizers import RMSprop\n",
    "\n",
    "model.compile(loss='categorical_crossentropy',\n",
    "              optimizer=RMSprop(learning_rate=0.001),\n",
    "              metrics=['acc'])\n",
    "\n",
    "total_sample=train_generator.n\n",
    "\n",
    "n_epochs = 30\n",
    "\n",
    "history = model.fit(train_generator,\n",
    "                    steps_per_epoch=int(total_sample/batch_size),\n",
    "                    epochs=n_epochs,\n",
    "                    validation_data=validation_generator,\n",
    "                    verbose=2)\n",
    "\n",
    "model.save('model_better.h5')"
   ]
  },
  {
   "cell_type": "code",
   "execution_count": 24,
   "id": "63d60d84",
   "metadata": {},
   "outputs": [
    {
     "name": "stdout",
     "output_type": "stream",
     "text": [
      "Step climber\n"
     ]
    }
   ],
   "source": [
    "\n",
    "import numpy as np\n",
    "from keras.preprocessing import image\n",
    "#test_image = image.load_img(\"/home/trazom/Internship Project/Split Image Data/test/Rowing Machine/image7.jpg\", target_size = (512 x 288))\n",
    "#test_image = image.img_to_array(test_image)\n",
    "test_image = image.load_img(\"/home/trazom/Internship Project/Split Image Data/test/Step climber/image545.jpg\", target_size = (512, 288))\n",
    "\n",
    "test_image = np.expand_dims(test_image, axis=0)\n",
    "result = model.predict(test_image)\n",
    "\n",
    "for i in range(no_of_classes):\n",
    "    if result[0][i] == 1:\n",
    "        print(classes[i])\n",
    "\n",
    "\n"
   ]
  },
  {
   "cell_type": "code",
   "execution_count": 32,
   "id": "f7c55b83",
   "metadata": {},
   "outputs": [
    {
     "data": {
      "image/png": "[encoded data removed]",
      "text/plain": [
       "<Figure size 432x288 with 1 Axes>"
      ]
     },
     "metadata": {
      "needs_background": "light"
     },
     "output_type": "display_data"
    },
    {
     "data": {
      "image/png": "[encoded data removed]",
      "text/plain": [
       "<Figure size 432x288 with 1 Axes>"
      ]
     },
     "metadata": {
      "needs_background": "light"
     },
     "output_type": "display_data"
    }
   ],
   "source": [
    "import matplotlib.pyplot as plt\n",
    "image_folder = \"/home/trazom/Internship Project/Internship Report/Images/\"\n",
    "acc = history.history['acc']\n",
    "val_acc = history.history['val_acc']\n",
    "loss = history.history['loss']\n",
    "val_loss = history.history['val_loss']\n",
    "\n",
    "epochs = range(len(acc))\n",
    "\n",
    "plt.plot(epochs, acc, 'bo', label='Training acc')\n",
    "plt.plot(epochs, val_acc, 'b', label='Validation acc')\n",
    "plt.title('Training and validation accuracy')\n",
    "plt.legend()\n",
    "plt.savefig(image_folder + 'accuraccy.png')\n",
    "plt.figure()\n",
    "\n",
    "plt.plot(epochs, loss, 'bo', label='Training loss')\n",
    "plt.plot(epochs, val_loss, 'b', label='Validation loss')\n",
    "plt.title('Training and validation loss')\n",
    "plt.legend()\n",
    "plt.savefig(image_folder + 'loss.png')\n",
    "plt.show()\n"
   ]
  },
  {
   "cell_type": "markdown",
   "id": "efd70848",
   "metadata": {},
   "source": [
    "## Evaluating model on test set"
   ]
  },
  {
   "cell_type": "code",
   "execution_count": 34,
   "id": "a7f546e9",
   "metadata": {},
   "outputs": [
    {
     "name": "stdout",
     "output_type": "stream",
     "text": [
      "Found 1454 images belonging to 9 classes.\n"
     ]
    }
   ],
   "source": [
    "# Create a generator\n",
    "\n",
    "test_datagen = ImageDataGenerator(rescale=1/255)\n",
    "\n",
    "test_generator = test_datagen.flow_from_directory(\n",
    "    split_output + 'test',  # This is the source directory for training images\n",
    "    target_size=(512, 288),  # All images will be resized to 512 x 288\n",
    "    shuffle = False,    \n",
    "    batch_size=1,\n",
    "    # Specify the classes explicitly\n",
    "    classes = classes,\n",
    "    # Since we use categorical_crossentropy loss, we need categorical labels\n",
    "    class_mode='categorical')\n",
    "\n"
   ]
  },
  {
   "cell_type": "code",
   "execution_count": 35,
   "id": "078ef7a2",
   "metadata": {},
   "outputs": [
    {
     "name": "stdout",
     "output_type": "stream",
     "text": [
      "1454/1454 [==============================] - 16s 11ms/step\n"
     ]
    }
   ],
   "source": [
    "# Predict\n",
    "\n",
    "import numpy\n",
    "\n",
    "test_steps_per_epoch = numpy.math.ceil(test_generator.samples / test_generator.batch_size)\n",
    "\n",
    "\n",
    "predictions = model.predict(test_generator,\n",
    "                            batch_size = batch_size,\n",
    "                            steps=test_steps_per_epoch,\n",
    "                            verbose=1\n",
    "                      )\n",
    "\n",
    "predicted_classes = numpy.argmax(predictions, axis=1)\n"
   ]
  },
  {
   "cell_type": "code",
   "execution_count": 36,
   "id": "1f52bfa8",
   "metadata": {},
   "outputs": [],
   "source": [
    "true_classes = test_generator.classes\n",
    "class_labels = list(test_generator.class_indices.keys())"
   ]
  },
  {
   "cell_type": "code",
   "execution_count": 41,
   "id": "f6782820",
   "metadata": {},
   "outputs": [
    {
     "name": "stdout",
     "output_type": "stream",
     "text": [
      "\n",
      "\n",
      "\n",
      "\n",
      "                          precision    recall  f1-score   support\n",
      "\n",
      "Recumbent exercise bike       1.00      1.00      1.00       148\n",
      "          Versa Climber       1.00      1.00      1.00        84\n",
      "         Rowing Machine       1.00      1.00      1.00       125\n",
      "            Weight Tree       1.00      1.00      1.00       153\n",
      "             Ab trainer       1.00      1.00      1.00       106\n",
      "           Step climber       1.00      1.00      1.00       158\n",
      "           Upright bike       1.00      1.00      1.00       252\n",
      "              Hitmill X       1.00      1.00      1.00       140\n",
      "            Thread mill       1.00      1.00      1.00       288\n",
      "\n",
      "               accuracy                           1.00      1454\n",
      "              macro avg       1.00      1.00      1.00      1454\n",
      "           weighted avg       1.00      1.00      1.00      1454\n",
      " \n",
      "\n",
      "\n",
      "\n",
      "\n",
      "\n",
      "\n",
      "\n",
      "\n",
      " [[148   0   0   0   0   0   0   0   0]\n",
      " [  0  84   0   0   0   0   0   0   0]\n",
      " [  0   0 125   0   0   0   0   0   0]\n",
      " [  0   0   0 153   0   0   0   0   0]\n",
      " [  0   0   0   0 106   0   0   0   0]\n",
      " [  0   0   0   0   0 158   0   0   0]\n",
      " [  0   0   0   0   0   0 252   0   0]\n",
      " [  0   0   0   0   0   0   0 140   0]\n",
      " [  0   0   0   0   0   0   0   0 288]] \n",
      "\n",
      "\n",
      "\n",
      "\n"
     ]
    }
   ],
   "source": [
    "import sklearn.metrics as metrics\n",
    "\n",
    "report = metrics.classification_report(true_classes, predicted_classes, target_names=class_labels)\n",
    "print(\"\\n\\n\\n\\n\", report, \"\\n\\n\\n\\n\")    \n",
    "\n",
    "reporter = metrics.confusion_matrix(true_classes, predicted_classes)\n",
    "print(\"\\n\\n\\n\\n\", reporter, \"\\n\\n\\n\\n\")    \n",
    "\n"
   ]
  },
  {
   "cell_type": "code",
   "execution_count": 39,
   "id": "5a391dc2",
   "metadata": {},
   "outputs": [
    {
     "name": "stdout",
     "output_type": "stream",
     "text": [
      "[[148   0   0   0   0   0   0   0   0]\n",
      " [  0  84   0   0   0   0   0   0   0]\n",
      " [  0   0 125   0   0   0   0   0   0]\n",
      " [  0   0   0 153   0   0   0   0   0]\n",
      " [  0   0   0   0 106   0   0   0   0]\n",
      " [  0   0   0   0   0 158   0   0   0]\n",
      " [  0   0   0   0   0   0 252   0   0]\n",
      " [  0   0   0   0   0   0   0 140   0]\n",
      " [  0   0   0   0   0   0   0   0 288]]\n"
     ]
    }
   ],
   "source": [
    "reporter = metrics.confusion_matrix(true_classes, predicted_classes)\n",
    "print(reporter)    \n"
   ]
  },
  {
   "cell_type": "code",
   "execution_count": 33,
   "id": "41afdb48",
   "metadata": {},
   "outputs": [
    {
     "data": {
      "image/png": "[encoded data removed]",
      "text/plain": [
       "<IPython.core.display.Image object>"
      ]
     },
     "execution_count": 33,
     "metadata": {},
     "output_type": "execute_result"
    }
   ],
   "source": [
    "from tensorflow.keras.utils import plot_model\n",
    "plot_model(model, to_file= image_folder + 'model.png')"
   ]
  },
  {
   "cell_type": "markdown",
   "id": "99fd914d",
   "metadata": {},
   "source": [
    "## New heading"
   ]
  }
 ],
 "metadata": {
  "kernelspec": {
   "display_name": "Python 3",
   "language": "python",
   "name": "python3"
  },
  "language_info": {
   "codemirror_mode": {
    "name": "ipython",
    "version": 3
   },
   "file_extension": ".py",
   "mimetype": "text/x-python",
   "name": "python",
   "nbconvert_exporter": "python",
   "pygments_lexer": "ipython3",
   "version": "3.8.10"
  }
 },
 "nbformat": 4,
 "nbformat_minor": 5
}
